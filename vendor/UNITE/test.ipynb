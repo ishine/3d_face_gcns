{
 "cells": [
  {
   "cell_type": "code",
   "execution_count": 2,
   "metadata": {},
   "outputs": [],
   "source": [
    "import apex\n",
    "from apex import amp"
   ]
  }
 ],
 "metadata": {
  "interpreter": {
   "hash": "203524236eda71c0c35adab06cc48ea9b4c6cce8924ef3e550ef1126c85021e0"
  },
  "kernelspec": {
   "display_name": "Python 3.8.12 64-bit ('jyeongho': conda)",
   "language": "python",
   "name": "python3"
  },
  "language_info": {
   "codemirror_mode": {
    "name": "ipython",
    "version": 3
   },
   "file_extension": ".py",
   "mimetype": "text/x-python",
   "name": "python",
   "nbconvert_exporter": "python",
   "pygments_lexer": "ipython3",
   "version": "3.8.6"
  },
  "orig_nbformat": 4
 },
 "nbformat": 4,
 "nbformat_minor": 2
}
