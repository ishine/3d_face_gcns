{
 "cells": [
  {
   "cell_type": "code",
   "execution_count": 1,
   "metadata": {},
   "outputs": [
    {
     "name": "stdout",
     "output_type": "stream",
     "text": [
      "step 0\n",
      "Photo: 0.06507637351751328, land: 147.85897827148438, alpha: 0.0, Beta: 0.0, delta: 0.0\n",
      "step 1\n",
      "Photo: 0.06474032998085022, land: 141.47361755371094, alpha: 0.002104233717545867, Beta: 2.602617557231901e-12, delta: 0.0007828236557543278\n",
      "step 2\n",
      "Photo: 0.07747679948806763, land: 78.62234497070312, alpha: 0.22259333729743958, Beta: 3.226711120518644e-10, delta: 0.14829909801483154\n",
      "step 3\n",
      "Photo: 0.05550161749124527, land: 26.840593338012695, alpha: 5.502511024475098, Beta: 3.47541970313614e-07, delta: 13.726571083068848\n",
      "step 4\n",
      "Photo: 0.053677719086408615, land: 20.2652587890625, alpha: 16.403797149658203, Beta: 1.3809464007863426e-06, delta: 10.114253044128418\n",
      "step 5\n",
      "Photo: 0.04598698392510414, land: 11.905807495117188, alpha: 38.5570068359375, Beta: 2.1821945210831473e-06, delta: 15.686208724975586\n",
      "step 6\n",
      "Photo: 0.03263038769364357, land: 7.6264543533325195, alpha: 95.28411102294922, Beta: 1.5880998034845106e-05, delta: 27.477954864501953\n",
      "step 7\n",
      "Photo: 0.02748572826385498, land: 4.850803852081299, alpha: 155.77883911132812, Beta: 1.7119182302849367e-05, delta: 29.02300262451172\n",
      "step 8\n",
      "Photo: 0.02937539666891098, land: 3.642850875854492, alpha: 106.5172119140625, Beta: 1.7439368093619123e-05, delta: 29.42964744567871\n",
      "step 9\n",
      "Photo: 0.027076300233602524, land: 2.1475186347961426, alpha: 135.87936401367188, Beta: 2.6532365154707804e-05, delta: 41.215660095214844\n",
      "step 10\n",
      "Photo: 0.026296596974134445, land: 1.9389108419418335, alpha: 144.542724609375, Beta: 3.782441126531921e-05, delta: 43.81944274902344\n",
      "step 11\n",
      "Photo: 0.02609192207455635, land: 1.7015143632888794, alpha: 141.04949951171875, Beta: 6.011660661897622e-05, delta: 44.06835174560547\n",
      "step 12\n",
      "Photo: 0.026032038033008575, land: 1.584303855895996, alpha: 140.66465759277344, Beta: 8.219968731282279e-05, delta: 44.392391204833984\n",
      "step 13\n",
      "Photo: 0.02574934996664524, land: 1.5567080974578857, alpha: 140.5340576171875, Beta: 0.00010379387822467834, delta: 44.2917594909668\n",
      "step 14\n",
      "Photo: 0.02543978951871395, land: 1.524446964263916, alpha: 140.36383056640625, Beta: 0.00013354547263588756, delta: 44.31147766113281\n",
      "step 15\n",
      "Photo: 0.025539735332131386, land: 1.5188452005386353, alpha: 140.49249267578125, Beta: 0.0001842192723415792, delta: 44.350929260253906\n",
      "step 16\n",
      "Photo: 0.02532123029232025, land: 1.4614897966384888, alpha: 140.49163818359375, Beta: 0.00020519745885394514, delta: 44.3610954284668\n",
      "step 17\n",
      "Photo: 0.02523152343928814, land: 1.396756649017334, alpha: 140.68722534179688, Beta: 0.0004180374671705067, delta: 44.254356384277344\n",
      "step 18\n",
      "Photo: 0.025075718760490417, land: 1.3901090621948242, alpha: 140.7498016357422, Beta: 0.000553377321921289, delta: 44.17395782470703\n",
      "step 19\n",
      "Photo: 0.02509324997663498, land: 1.3671141862869263, alpha: 140.68153381347656, Beta: 0.000596982310526073, delta: 44.103179931640625\n",
      "step 20\n",
      "Photo: 0.023181714117527008, land: 1.4072149991989136, alpha: 144.45330810546875, Beta: 0.007045408710837364, delta: 44.508079528808594\n",
      "step 21\n",
      "Photo: 0.023535124957561493, land: 1.1498003005981445, alpha: 144.3074951171875, Beta: 0.007307578809559345, delta: 44.284297943115234\n",
      "step 22\n",
      "Photo: 0.02327873185276985, land: 1.1083043813705444, alpha: 144.13485717773438, Beta: 0.007473907433450222, delta: 44.004249572753906\n",
      "step 23\n",
      "Photo: 0.02369990199804306, land: 1.1449187994003296, alpha: 143.75677490234375, Beta: 0.007941389456391335, delta: 41.09334945678711\n",
      "step 24\n",
      "Photo: 0.02334119938313961, land: 1.0623542070388794, alpha: 143.70217895507812, Beta: 0.00805505272001028, delta: 41.043121337890625\n",
      "step 25\n",
      "Photo: 0.023193219676613808, land: 1.0331040620803833, alpha: 143.0436553955078, Beta: 0.009201073087751865, delta: 40.511138916015625\n",
      "step 26\n",
      "Photo: 0.023135492578148842, land: 1.0254008769989014, alpha: 142.91085815429688, Beta: 0.009930716827511787, delta: 40.29171371459961\n",
      "step 27\n",
      "Photo: 0.023114316165447235, land: 1.019067645072937, alpha: 142.76974487304688, Beta: 0.010565809905529022, delta: 40.09632873535156\n",
      "step 28\n",
      "Photo: 0.0230298712849617, land: 1.00998055934906, alpha: 142.62982177734375, Beta: 0.01150423288345337, delta: 39.728065490722656\n",
      "step 29\n",
      "Photo: 0.022946327924728394, land: 1.0125465393066406, alpha: 142.555908203125, Beta: 0.012107598595321178, delta: 39.58378601074219\n"
     ]
    }
   ],
   "source": [
    "from audiodvp_utils.util import get_file_list\n",
    "import os\n",
    "from audiodvp_utils.irls_solver import IRLSSolver\n",
    "\n",
    "\n",
    "class options():\n",
    "    def __init__(self, device):\n",
    "        self.device = device\n",
    "        self.data_dir = \"data/kkj04_5min\"\n",
    "        self.matlab_data_path = 'renderer/data/data.mat'\n",
    "        self.lambda_photo = 1.0\n",
    "        self.lambda_land = 10\n",
    "        self.lambda_reg = 2.5e-5\n",
    "        self.lambda_alpha = 1.0\n",
    "        self.lambda_beta = 1.0\n",
    "        self.lambda_delta = 50\n",
    "    \n",
    "\n",
    "opt = options('cuda')\n",
    "image_list = get_file_list(os.path.join(opt.data_dir, 'crop'))\n",
    "idx = 138\n",
    "image_name = image_list[idx]\n",
    "bfm_solver = IRLSSolver(opt)\n",
    "render, mask = bfm_solver.get_parameters(image_name)"
   ]
  }
 ],
 "metadata": {
  "interpreter": {
   "hash": "203524236eda71c0c35adab06cc48ea9b4c6cce8924ef3e550ef1126c85021e0"
  },
  "kernelspec": {
   "display_name": "Python 3.8.12 ('jyeongho')",
   "language": "python",
   "name": "python3"
  },
  "language_info": {
   "codemirror_mode": {
    "name": "ipython",
    "version": 3
   },
   "file_extension": ".py",
   "mimetype": "text/x-python",
   "name": "python",
   "nbconvert_exporter": "python",
   "pygments_lexer": "ipython3",
   "version": "3.8.12"
  },
  "orig_nbformat": 4
 },
 "nbformat": 4,
 "nbformat_minor": 2
}
